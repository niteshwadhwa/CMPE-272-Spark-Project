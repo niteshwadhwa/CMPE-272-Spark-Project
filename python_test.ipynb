from pyspark.sql import SQLContext, Row
sqlContext = SQLContext(sc)
lines = sc.textFile("swift://notebooks.spark/clinvar_result_Final.csv");
parts = lines.map(lambda l: l.split(",")) 
gene = parts.map(lambda p: Row(name=p[1]))
schemaGene = sqlContext.createDataFrame(gene) 
schemaGene.registerTempTable("gene")
geneName = sqlContext.sql("SELECT distinct(name) FROM gene")
Words=[] 
name = geneName.map(lambda p: p.name) 
for name1 in name.collect(): 
    b_1=name1.split('|') 
    for uniqueWord in b_1: 
      if not uniqueWord in Words: 
          print str(uniqueWord);
